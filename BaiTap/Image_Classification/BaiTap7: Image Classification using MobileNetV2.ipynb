{
  "nbformat": 4,
  "nbformat_minor": 0,
  "metadata": {
    "colab": {
      "name": "18520186.ipynb",
      "provenance": [],
      "collapsed_sections": [],
      "toc_visible": true,
      "authorship_tag": "ABX9TyPv4N8VTXaNOZJuv/ruIRSN",
      "include_colab_link": true
    },
    "kernelspec": {
      "name": "python3",
      "display_name": "Python 3"
    },
    "language_info": {
      "name": "python"
    }
  },
  "cells": [
    {
      "cell_type": "markdown",
      "metadata": {
        "id": "view-in-github",
        "colab_type": "text"
      },
      "source": [
        "<a href=\"https://colab.research.google.com/github/ndtuan10/Image-Processing-And-Applications_CS406.M11.KHCL/blob/main/BaiTap/Image_Classification/BaiTap7%3A%20Image%20Classification%20using%20MobileNetV2.ipynb\" target=\"_parent\"><img src=\"https://colab.research.google.com/assets/colab-badge.svg\" alt=\"Open In Colab\"/></a>"
      ]
    },
    {
      "cell_type": "markdown",
      "metadata": {
        "id": "JyE4wJjKwafR"
      },
      "source": [
        "#**Ngô Đức Tuấn**\n",
        "\n",
        "MSSV: 18520186\n",
        "\n",
        "##**Bài tập 7: Phân lớp ảnh (Image Classification)**"
      ]
    },
    {
      "cell_type": "code",
      "metadata": {
        "colab": {
          "base_uri": "https://localhost:8080/"
        },
        "id": "sGQlN2dpwmKn",
        "outputId": "6db56386-7a2f-45eb-8e3a-1d47ac2b9769"
      },
      "source": [
        "from google.colab import drive\n",
        "drive.mount('/content/drive')"
      ],
      "execution_count": 1,
      "outputs": [
        {
          "output_type": "stream",
          "name": "stdout",
          "text": [
            "Drive already mounted at /content/drive; to attempt to forcibly remount, call drive.mount(\"/content/drive\", force_remount=True).\n"
          ]
        }
      ]
    },
    {
      "cell_type": "code",
      "metadata": {
        "colab": {
          "base_uri": "https://localhost:8080/"
        },
        "id": "Zf8VNZEgwmpD",
        "outputId": "704b4760-418e-4d9a-b91c-87ae7f01b3dd"
      },
      "source": [
        "# Import các thư viện cần dùng\n",
        "import os\n",
        "import tensorflow as tf\n",
        "from tensorflow import keras\n",
        "from tensorflow.keras import layers\n",
        "from sklearn.model_selection import train_test_split\n",
        "from tensorflow.keras.models import Model\n",
        "from tensorflow.keras.preprocessing import image\n",
        "import numpy as np\n",
        "import pandas as pd\n",
        "import matplotlib.pyplot as plt\n",
        "import seaborn as sns\n",
        "print('''\n",
        "  Phiên bản của các thư viện :\n",
        "    + Tensorflow : {0}\n",
        "    + keras : {1}\n",
        "    + numpy : {2}\n",
        "    + pandas : {3}\n",
        "'''.format(tf.__version__, keras.__version__, np.__version__, pd.__version__))"
      ],
      "execution_count": 2,
      "outputs": [
        {
          "output_type": "stream",
          "name": "stdout",
          "text": [
            "\n",
            "  Phiên bản của các thư viện :\n",
            "    + Tensorflow : 2.6.0\n",
            "    + keras : 2.6.0\n",
            "    + numpy : 1.19.5\n",
            "    + pandas : 1.1.5\n",
            "\n"
          ]
        }
      ]
    },
    {
      "cell_type": "markdown",
      "metadata": {
        "id": "8xUxH05xzm1m"
      },
      "source": [
        "# **Xử lí dataset**"
      ]
    },
    {
      "cell_type": "code",
      "metadata": {
        "id": "Atm6CX2ZxQ5B"
      },
      "source": [
        "Path_dir = '/content/drive/MyDrive/CS406.M11.KHCL/Baitap/Dataset/dogscatspans/'\n",
        "path_train = Path_dir + 'train/'\n",
        "path_test = Path_dir + 'test/'\n",
        "path_valid = Path_dir + 'val/'"
      ],
      "execution_count": 3,
      "outputs": []
    },
    {
      "cell_type": "code",
      "metadata": {
        "colab": {
          "base_uri": "https://localhost:8080/"
        },
        "id": "cfjYN1C8zhTp",
        "outputId": "71306443-0257-43be-fee3-92ad1b13dd0e"
      },
      "source": [
        "classNames = os.listdir(path_test)\n",
        "print(classNames)"
      ],
      "execution_count": 4,
      "outputs": [
        {
          "output_type": "stream",
          "name": "stdout",
          "text": [
            "['dog', 'cat', 'pan']\n"
          ]
        }
      ]
    },
    {
      "cell_type": "code",
      "metadata": {
        "id": "ut7BwaTGz1sk"
      },
      "source": [
        "from tensorflow.keras.models import Model\n",
        "from tensorflow.keras.models import Sequential\n",
        "from keras.layers import GlobalAveragePooling2D\n",
        "from tensorflow.keras.layers import BatchNormalization\n",
        "from tensorflow.keras.layers import Activation\n",
        "from tensorflow.keras.layers import Dense\n",
        "from tensorflow.keras.layers import Flatten\n",
        "\n",
        "from tensorflow.keras.preprocessing.image import ImageDataGenerator\n",
        "from tensorflow.keras.optimizers import Adam\n",
        "from tensorflow.keras.losses import CategoricalCrossentropy"
      ],
      "execution_count": 5,
      "outputs": []
    },
    {
      "cell_type": "code",
      "metadata": {
        "id": "y8oIYK-Zz5MH"
      },
      "source": [
        "def loadData(path):\n",
        "  A, B = [], []\n",
        "  for folder_name in classNames:\n",
        "    folder_path = os.path.join(Path_dir, path, folder_name)\n",
        "    for fname in os.listdir(folder_path):\n",
        "        fpath = os.path.join(folder_path, fname)\n",
        "        print(fpath)\n",
        "        img = image.load_img(fpath, target_size=(224,224))\n",
        "        img_data = image.img_to_array(img)\n",
        "        A.append(img_data)\n",
        "        B.append(folder_name)\n",
        "\n",
        "  # Preprocessing\n",
        "  A = np.asarray(A)\n",
        "  B = np.asarray(B)\n",
        "  print('Loading completed. ')\n",
        "  return A,B"
      ],
      "execution_count": 6,
      "outputs": []
    },
    {
      "cell_type": "code",
      "metadata": {
        "colab": {
          "base_uri": "https://localhost:8080/"
        },
        "id": "Mxb1cvaw0Xdz",
        "outputId": "f73da196-3781-44f9-c940-ae575c87ab91"
      },
      "source": [
        "# load tập train, test, validation\n",
        "A_train, B_train = loadData(path_train)\n",
        "A_test, B_test = loadData(path_test)\n",
        "A_valid, B_valid = loadData(path_valid)"
      ],
      "execution_count": 7,
      "outputs": [
        {
          "output_type": "stream",
          "name": "stdout",
          "text": [
            "/content/drive/MyDrive/CS406.M11.KHCL/Baitap/Dataset/dogscatspans/train/dog/dog.0.jpg\n",
            "/content/drive/MyDrive/CS406.M11.KHCL/Baitap/Dataset/dogscatspans/train/dog/dog.1.jpg\n",
            "/content/drive/MyDrive/CS406.M11.KHCL/Baitap/Dataset/dogscatspans/train/dog/dog.10.jpg\n",
            "/content/drive/MyDrive/CS406.M11.KHCL/Baitap/Dataset/dogscatspans/train/dog/dog.11.jpg\n",
            "/content/drive/MyDrive/CS406.M11.KHCL/Baitap/Dataset/dogscatspans/train/dog/dog.12.jpg\n",
            "/content/drive/MyDrive/CS406.M11.KHCL/Baitap/Dataset/dogscatspans/train/dog/dog.13.jpg\n",
            "/content/drive/MyDrive/CS406.M11.KHCL/Baitap/Dataset/dogscatspans/train/dog/dog.14.jpg\n",
            "/content/drive/MyDrive/CS406.M11.KHCL/Baitap/Dataset/dogscatspans/train/dog/dog.15.jpg\n",
            "/content/drive/MyDrive/CS406.M11.KHCL/Baitap/Dataset/dogscatspans/train/dog/dog.16.jpg\n",
            "/content/drive/MyDrive/CS406.M11.KHCL/Baitap/Dataset/dogscatspans/train/dog/dog.17.jpg\n",
            "/content/drive/MyDrive/CS406.M11.KHCL/Baitap/Dataset/dogscatspans/train/dog/dog.18.jpg\n",
            "/content/drive/MyDrive/CS406.M11.KHCL/Baitap/Dataset/dogscatspans/train/dog/dog.19.jpg\n",
            "/content/drive/MyDrive/CS406.M11.KHCL/Baitap/Dataset/dogscatspans/train/dog/dog.20.jpg\n",
            "/content/drive/MyDrive/CS406.M11.KHCL/Baitap/Dataset/dogscatspans/train/dog/dog.2.jpg\n",
            "/content/drive/MyDrive/CS406.M11.KHCL/Baitap/Dataset/dogscatspans/train/dog/dog.3.jpg\n",
            "/content/drive/MyDrive/CS406.M11.KHCL/Baitap/Dataset/dogscatspans/train/dog/dog.4.jpg\n",
            "/content/drive/MyDrive/CS406.M11.KHCL/Baitap/Dataset/dogscatspans/train/dog/dog.5.jpg\n",
            "/content/drive/MyDrive/CS406.M11.KHCL/Baitap/Dataset/dogscatspans/train/dog/dog.6.jpg\n",
            "/content/drive/MyDrive/CS406.M11.KHCL/Baitap/Dataset/dogscatspans/train/dog/dog.7.jpg\n",
            "/content/drive/MyDrive/CS406.M11.KHCL/Baitap/Dataset/dogscatspans/train/dog/dog.8.jpg\n",
            "/content/drive/MyDrive/CS406.M11.KHCL/Baitap/Dataset/dogscatspans/train/dog/dog.9.jpg\n",
            "/content/drive/MyDrive/CS406.M11.KHCL/Baitap/Dataset/dogscatspans/train/cat/cat.0.jpg\n",
            "/content/drive/MyDrive/CS406.M11.KHCL/Baitap/Dataset/dogscatspans/train/cat/cat.10.jpg\n",
            "/content/drive/MyDrive/CS406.M11.KHCL/Baitap/Dataset/dogscatspans/train/cat/cat.1.jpg\n",
            "/content/drive/MyDrive/CS406.M11.KHCL/Baitap/Dataset/dogscatspans/train/cat/cat.11.jpg\n",
            "/content/drive/MyDrive/CS406.M11.KHCL/Baitap/Dataset/dogscatspans/train/cat/cat.12.jpg\n",
            "/content/drive/MyDrive/CS406.M11.KHCL/Baitap/Dataset/dogscatspans/train/cat/cat.13.jpg\n",
            "/content/drive/MyDrive/CS406.M11.KHCL/Baitap/Dataset/dogscatspans/train/cat/cat.14.jpg\n",
            "/content/drive/MyDrive/CS406.M11.KHCL/Baitap/Dataset/dogscatspans/train/cat/cat.15.jpg\n",
            "/content/drive/MyDrive/CS406.M11.KHCL/Baitap/Dataset/dogscatspans/train/cat/cat.16.jpg\n",
            "/content/drive/MyDrive/CS406.M11.KHCL/Baitap/Dataset/dogscatspans/train/cat/cat.17.jpg\n",
            "/content/drive/MyDrive/CS406.M11.KHCL/Baitap/Dataset/dogscatspans/train/cat/cat.18.jpg\n",
            "/content/drive/MyDrive/CS406.M11.KHCL/Baitap/Dataset/dogscatspans/train/cat/cat.19.jpg\n",
            "/content/drive/MyDrive/CS406.M11.KHCL/Baitap/Dataset/dogscatspans/train/cat/cat.2.jpg\n",
            "/content/drive/MyDrive/CS406.M11.KHCL/Baitap/Dataset/dogscatspans/train/cat/cat.20.jpg\n",
            "/content/drive/MyDrive/CS406.M11.KHCL/Baitap/Dataset/dogscatspans/train/cat/cat.3.jpg\n",
            "/content/drive/MyDrive/CS406.M11.KHCL/Baitap/Dataset/dogscatspans/train/cat/cat.4.jpg\n",
            "/content/drive/MyDrive/CS406.M11.KHCL/Baitap/Dataset/dogscatspans/train/cat/cat.5.jpg\n",
            "/content/drive/MyDrive/CS406.M11.KHCL/Baitap/Dataset/dogscatspans/train/cat/cat.6.jpg\n",
            "/content/drive/MyDrive/CS406.M11.KHCL/Baitap/Dataset/dogscatspans/train/cat/cat.7.jpg\n",
            "/content/drive/MyDrive/CS406.M11.KHCL/Baitap/Dataset/dogscatspans/train/cat/cat.8.jpg\n",
            "/content/drive/MyDrive/CS406.M11.KHCL/Baitap/Dataset/dogscatspans/train/cat/cat.9.jpg\n",
            "/content/drive/MyDrive/CS406.M11.KHCL/Baitap/Dataset/dogscatspans/train/pan/pan.11.jpg\n",
            "/content/drive/MyDrive/CS406.M11.KHCL/Baitap/Dataset/dogscatspans/train/pan/pan.2.jpg\n",
            "/content/drive/MyDrive/CS406.M11.KHCL/Baitap/Dataset/dogscatspans/train/pan/pan.13.jpg\n",
            "/content/drive/MyDrive/CS406.M11.KHCL/Baitap/Dataset/dogscatspans/train/pan/pan.0.jpg\n",
            "/content/drive/MyDrive/CS406.M11.KHCL/Baitap/Dataset/dogscatspans/train/pan/pan.8.jpg\n",
            "/content/drive/MyDrive/CS406.M11.KHCL/Baitap/Dataset/dogscatspans/train/pan/pan.12.jpg\n",
            "/content/drive/MyDrive/CS406.M11.KHCL/Baitap/Dataset/dogscatspans/train/pan/pan.17.jpg\n",
            "/content/drive/MyDrive/CS406.M11.KHCL/Baitap/Dataset/dogscatspans/train/pan/pan.5.jpg\n",
            "/content/drive/MyDrive/CS406.M11.KHCL/Baitap/Dataset/dogscatspans/train/pan/pan.18.jpg\n",
            "/content/drive/MyDrive/CS406.M11.KHCL/Baitap/Dataset/dogscatspans/train/pan/pan.4.jpg\n",
            "/content/drive/MyDrive/CS406.M11.KHCL/Baitap/Dataset/dogscatspans/train/pan/pan.7.jpg\n",
            "/content/drive/MyDrive/CS406.M11.KHCL/Baitap/Dataset/dogscatspans/train/pan/pan.14.jpg\n",
            "/content/drive/MyDrive/CS406.M11.KHCL/Baitap/Dataset/dogscatspans/train/pan/pan.10.jpg\n",
            "/content/drive/MyDrive/CS406.M11.KHCL/Baitap/Dataset/dogscatspans/train/pan/pan.6.jpg\n",
            "/content/drive/MyDrive/CS406.M11.KHCL/Baitap/Dataset/dogscatspans/train/pan/pan.16.jpg\n",
            "/content/drive/MyDrive/CS406.M11.KHCL/Baitap/Dataset/dogscatspans/train/pan/pan.15.jpg\n",
            "/content/drive/MyDrive/CS406.M11.KHCL/Baitap/Dataset/dogscatspans/train/pan/pan.9.jpg\n",
            "/content/drive/MyDrive/CS406.M11.KHCL/Baitap/Dataset/dogscatspans/train/pan/pan.19.jpg\n",
            "/content/drive/MyDrive/CS406.M11.KHCL/Baitap/Dataset/dogscatspans/train/pan/pan.1.jpg\n",
            "/content/drive/MyDrive/CS406.M11.KHCL/Baitap/Dataset/dogscatspans/train/pan/pan.20.jpg\n",
            "/content/drive/MyDrive/CS406.M11.KHCL/Baitap/Dataset/dogscatspans/train/pan/pan.3.jpg\n",
            "Loading completed. \n",
            "/content/drive/MyDrive/CS406.M11.KHCL/Baitap/Dataset/dogscatspans/test/dog/dog.5.jpg\n",
            "/content/drive/MyDrive/CS406.M11.KHCL/Baitap/Dataset/dogscatspans/test/dog/dog.0.jpg\n",
            "/content/drive/MyDrive/CS406.M11.KHCL/Baitap/Dataset/dogscatspans/test/dog/dog.2.jpg\n",
            "/content/drive/MyDrive/CS406.M11.KHCL/Baitap/Dataset/dogscatspans/test/dog/dog.1.jpg\n",
            "/content/drive/MyDrive/CS406.M11.KHCL/Baitap/Dataset/dogscatspans/test/dog/dog.3.jpg\n",
            "/content/drive/MyDrive/CS406.M11.KHCL/Baitap/Dataset/dogscatspans/test/dog/dog.6.jpg\n",
            "/content/drive/MyDrive/CS406.M11.KHCL/Baitap/Dataset/dogscatspans/test/dog/dog.4.jpg\n",
            "/content/drive/MyDrive/CS406.M11.KHCL/Baitap/Dataset/dogscatspans/test/dog/12492.jpg\n",
            "/content/drive/MyDrive/CS406.M11.KHCL/Baitap/Dataset/dogscatspans/test/dog/12493.jpg\n",
            "/content/drive/MyDrive/CS406.M11.KHCL/Baitap/Dataset/dogscatspans/test/dog/12491.jpg\n",
            "/content/drive/MyDrive/CS406.M11.KHCL/Baitap/Dataset/dogscatspans/test/dog/12494.jpg\n",
            "/content/drive/MyDrive/CS406.M11.KHCL/Baitap/Dataset/dogscatspans/test/dog/12499.jpg\n",
            "/content/drive/MyDrive/CS406.M11.KHCL/Baitap/Dataset/dogscatspans/test/cat/cat.7.jpg\n",
            "/content/drive/MyDrive/CS406.M11.KHCL/Baitap/Dataset/dogscatspans/test/cat/cat.12.jpg\n",
            "/content/drive/MyDrive/CS406.M11.KHCL/Baitap/Dataset/dogscatspans/test/cat/cat.0.jpg\n",
            "/content/drive/MyDrive/CS406.M11.KHCL/Baitap/Dataset/dogscatspans/test/cat/cat.11.jpg\n",
            "/content/drive/MyDrive/CS406.M11.KHCL/Baitap/Dataset/dogscatspans/test/cat/cat.5.jpg\n",
            "/content/drive/MyDrive/CS406.M11.KHCL/Baitap/Dataset/dogscatspans/test/cat/cat.4.jpg\n",
            "/content/drive/MyDrive/CS406.M11.KHCL/Baitap/Dataset/dogscatspans/test/cat/cat.8.jpg\n",
            "/content/drive/MyDrive/CS406.M11.KHCL/Baitap/Dataset/dogscatspans/test/cat/cat.3.jpg\n",
            "/content/drive/MyDrive/CS406.M11.KHCL/Baitap/Dataset/dogscatspans/test/cat/cat.1.jpg\n",
            "/content/drive/MyDrive/CS406.M11.KHCL/Baitap/Dataset/dogscatspans/test/cat/cat.10.jpg\n",
            "/content/drive/MyDrive/CS406.M11.KHCL/Baitap/Dataset/dogscatspans/test/cat/cat.2.jpg\n",
            "/content/drive/MyDrive/CS406.M11.KHCL/Baitap/Dataset/dogscatspans/test/cat/cat.9.jpg\n",
            "/content/drive/MyDrive/CS406.M11.KHCL/Baitap/Dataset/dogscatspans/test/cat/cat.6.jpg\n",
            "/content/drive/MyDrive/CS406.M11.KHCL/Baitap/Dataset/dogscatspans/test/cat/12496.jpg\n",
            "/content/drive/MyDrive/CS406.M11.KHCL/Baitap/Dataset/dogscatspans/test/cat/12485.jpg\n",
            "/content/drive/MyDrive/CS406.M11.KHCL/Baitap/Dataset/dogscatspans/test/cat/12483.jpg\n",
            "/content/drive/MyDrive/CS406.M11.KHCL/Baitap/Dataset/dogscatspans/test/cat/12482.jpg\n",
            "/content/drive/MyDrive/CS406.M11.KHCL/Baitap/Dataset/dogscatspans/test/cat/12495.jpg\n",
            "/content/drive/MyDrive/CS406.M11.KHCL/Baitap/Dataset/dogscatspans/test/cat/12497.jpg\n",
            "/content/drive/MyDrive/CS406.M11.KHCL/Baitap/Dataset/dogscatspans/test/cat/12500.jpg\n",
            "/content/drive/MyDrive/CS406.M11.KHCL/Baitap/Dataset/dogscatspans/test/pan/image_0023.jpg\n",
            "/content/drive/MyDrive/CS406.M11.KHCL/Baitap/Dataset/dogscatspans/test/pan/pan.1.jpg\n",
            "/content/drive/MyDrive/CS406.M11.KHCL/Baitap/Dataset/dogscatspans/test/pan/pan.4.jpg\n",
            "/content/drive/MyDrive/CS406.M11.KHCL/Baitap/Dataset/dogscatspans/test/pan/image_0026.jpg\n",
            "/content/drive/MyDrive/CS406.M11.KHCL/Baitap/Dataset/dogscatspans/test/pan/pan.0.jpg\n",
            "/content/drive/MyDrive/CS406.M11.KHCL/Baitap/Dataset/dogscatspans/test/pan/pan.3.jpg\n",
            "/content/drive/MyDrive/CS406.M11.KHCL/Baitap/Dataset/dogscatspans/test/pan/image_0024.jpg\n",
            "/content/drive/MyDrive/CS406.M11.KHCL/Baitap/Dataset/dogscatspans/test/pan/image_0022.jpg\n",
            "/content/drive/MyDrive/CS406.M11.KHCL/Baitap/Dataset/dogscatspans/test/pan/pan.2.jpg\n",
            "/content/drive/MyDrive/CS406.M11.KHCL/Baitap/Dataset/dogscatspans/test/pan/image_0025.jpg\n",
            "Loading completed. \n",
            "/content/drive/MyDrive/CS406.M11.KHCL/Baitap/Dataset/dogscatspans/val/dog/dog.12499.jpg\n",
            "/content/drive/MyDrive/CS406.M11.KHCL/Baitap/Dataset/dogscatspans/val/dog/dog.12497.jpg\n",
            "/content/drive/MyDrive/CS406.M11.KHCL/Baitap/Dataset/dogscatspans/val/dog/dog.12498.jpg\n",
            "/content/drive/MyDrive/CS406.M11.KHCL/Baitap/Dataset/dogscatspans/val/dog/dog.12495.jpg\n",
            "/content/drive/MyDrive/CS406.M11.KHCL/Baitap/Dataset/dogscatspans/val/dog/dog.12492.jpg\n",
            "/content/drive/MyDrive/CS406.M11.KHCL/Baitap/Dataset/dogscatspans/val/dog/dog.12490.jpg\n",
            "/content/drive/MyDrive/CS406.M11.KHCL/Baitap/Dataset/dogscatspans/val/dog/dog.12494.jpg\n",
            "/content/drive/MyDrive/CS406.M11.KHCL/Baitap/Dataset/dogscatspans/val/dog/dog.12496.jpg\n",
            "/content/drive/MyDrive/CS406.M11.KHCL/Baitap/Dataset/dogscatspans/val/dog/dog.12491.jpg\n",
            "/content/drive/MyDrive/CS406.M11.KHCL/Baitap/Dataset/dogscatspans/val/dog/dog.12493.jpg\n",
            "/content/drive/MyDrive/CS406.M11.KHCL/Baitap/Dataset/dogscatspans/val/cat/cat.11130.jpg\n",
            "/content/drive/MyDrive/CS406.M11.KHCL/Baitap/Dataset/dogscatspans/val/cat/cat.11125.jpg\n",
            "/content/drive/MyDrive/CS406.M11.KHCL/Baitap/Dataset/dogscatspans/val/cat/cat.11134.jpg\n",
            "/content/drive/MyDrive/CS406.M11.KHCL/Baitap/Dataset/dogscatspans/val/cat/cat.11133.jpg\n",
            "/content/drive/MyDrive/CS406.M11.KHCL/Baitap/Dataset/dogscatspans/val/cat/cat.11126.jpg\n",
            "/content/drive/MyDrive/CS406.M11.KHCL/Baitap/Dataset/dogscatspans/val/cat/cat.11131.jpg\n",
            "/content/drive/MyDrive/CS406.M11.KHCL/Baitap/Dataset/dogscatspans/val/cat/cat.11132.jpg\n",
            "/content/drive/MyDrive/CS406.M11.KHCL/Baitap/Dataset/dogscatspans/val/cat/cat.11129.jpg\n",
            "/content/drive/MyDrive/CS406.M11.KHCL/Baitap/Dataset/dogscatspans/val/cat/cat.11128.jpg\n",
            "/content/drive/MyDrive/CS406.M11.KHCL/Baitap/Dataset/dogscatspans/val/cat/cat.11127.jpg\n",
            "/content/drive/MyDrive/CS406.M11.KHCL/Baitap/Dataset/dogscatspans/val/pan/pan.8.jpg\n",
            "/content/drive/MyDrive/CS406.M11.KHCL/Baitap/Dataset/dogscatspans/val/pan/pan.7.jpg\n",
            "/content/drive/MyDrive/CS406.M11.KHCL/Baitap/Dataset/dogscatspans/val/pan/pan.2.jpg\n",
            "/content/drive/MyDrive/CS406.M11.KHCL/Baitap/Dataset/dogscatspans/val/pan/pan.1.jpg\n",
            "/content/drive/MyDrive/CS406.M11.KHCL/Baitap/Dataset/dogscatspans/val/pan/pan.4.jpg\n",
            "/content/drive/MyDrive/CS406.M11.KHCL/Baitap/Dataset/dogscatspans/val/pan/pan.5.jpg\n",
            "/content/drive/MyDrive/CS406.M11.KHCL/Baitap/Dataset/dogscatspans/val/pan/pan.0.jpg\n",
            "/content/drive/MyDrive/CS406.M11.KHCL/Baitap/Dataset/dogscatspans/val/pan/pan.3.jpg\n",
            "/content/drive/MyDrive/CS406.M11.KHCL/Baitap/Dataset/dogscatspans/val/pan/pan.6.jpg\n",
            "Loading completed. \n"
          ]
        }
      ]
    },
    {
      "cell_type": "code",
      "metadata": {
        "colab": {
          "base_uri": "https://localhost:8080/"
        },
        "id": "QrhwGuw40h5x",
        "outputId": "a387bc59-070b-446b-ee87-2ed8746cb03c"
      },
      "source": [
        "# Khai phá dữ liệu \n",
        "print('A_train: {}, B_train: {}, A_valid: {}, B_valid: {}, A_test: {}, B_test: {}'.format(A_train.shape, B_train.shape, A_valid.shape, B_valid.shape, A_test.shape, B_test.shape))"
      ],
      "execution_count": 8,
      "outputs": [
        {
          "output_type": "stream",
          "name": "stdout",
          "text": [
            "A_train: (63, 224, 224, 3), B_train: (63,), A_valid: (29, 224, 224, 3), B_valid: (29,), A_test: (42, 224, 224, 3), B_test: (42,)\n"
          ]
        }
      ]
    },
    {
      "cell_type": "code",
      "metadata": {
        "colab": {
          "base_uri": "https://localhost:8080/",
          "height": 235
        },
        "id": "Sb0Xgo0m0kfc",
        "outputId": "8d4b770b-d672-46a3-e523-46b777e82882"
      },
      "source": [
        "result = {\n",
        "    'Data':[\"A_train\", \"B_train\", \"A_valid\", \"B_valid\", \"A_test\", \"B_test\"],\n",
        "    'Shape': [A_train.shape, B_train.shape, A_valid.shape, B_valid.shape, A_test.shape, B_test.shape]\n",
        "}\n",
        "pd.DataFrame(result)"
      ],
      "execution_count": 9,
      "outputs": [
        {
          "output_type": "execute_result",
          "data": {
            "text/html": [
              "<div>\n",
              "<style scoped>\n",
              "    .dataframe tbody tr th:only-of-type {\n",
              "        vertical-align: middle;\n",
              "    }\n",
              "\n",
              "    .dataframe tbody tr th {\n",
              "        vertical-align: top;\n",
              "    }\n",
              "\n",
              "    .dataframe thead th {\n",
              "        text-align: right;\n",
              "    }\n",
              "</style>\n",
              "<table border=\"1\" class=\"dataframe\">\n",
              "  <thead>\n",
              "    <tr style=\"text-align: right;\">\n",
              "      <th></th>\n",
              "      <th>Data</th>\n",
              "      <th>Shape</th>\n",
              "    </tr>\n",
              "  </thead>\n",
              "  <tbody>\n",
              "    <tr>\n",
              "      <th>0</th>\n",
              "      <td>A_train</td>\n",
              "      <td>(63, 224, 224, 3)</td>\n",
              "    </tr>\n",
              "    <tr>\n",
              "      <th>1</th>\n",
              "      <td>B_train</td>\n",
              "      <td>(63,)</td>\n",
              "    </tr>\n",
              "    <tr>\n",
              "      <th>2</th>\n",
              "      <td>A_valid</td>\n",
              "      <td>(29, 224, 224, 3)</td>\n",
              "    </tr>\n",
              "    <tr>\n",
              "      <th>3</th>\n",
              "      <td>B_valid</td>\n",
              "      <td>(29,)</td>\n",
              "    </tr>\n",
              "    <tr>\n",
              "      <th>4</th>\n",
              "      <td>A_test</td>\n",
              "      <td>(42, 224, 224, 3)</td>\n",
              "    </tr>\n",
              "    <tr>\n",
              "      <th>5</th>\n",
              "      <td>B_test</td>\n",
              "      <td>(42,)</td>\n",
              "    </tr>\n",
              "  </tbody>\n",
              "</table>\n",
              "</div>"
            ],
            "text/plain": [
              "      Data              Shape\n",
              "0  A_train  (63, 224, 224, 3)\n",
              "1  B_train              (63,)\n",
              "2  A_valid  (29, 224, 224, 3)\n",
              "3  B_valid              (29,)\n",
              "4   A_test  (42, 224, 224, 3)\n",
              "5   B_test              (42,)"
            ]
          },
          "metadata": {},
          "execution_count": 9
        }
      ]
    },
    {
      "cell_type": "markdown",
      "metadata": {
        "id": "OgdKm-W-12vp"
      },
      "source": [
        "# **Tiền xử lý dữ liệu**"
      ]
    },
    {
      "cell_type": "code",
      "metadata": {
        "id": "2Vec9RQr1Y1w"
      },
      "source": [
        "# One hot encoding\n",
        "from sklearn.preprocessing import LabelBinarizer\n",
        "lb = LabelBinarizer()\n",
        "B_train = lb.fit_transform(B_train)\n",
        "B_valid = lb.fit_transform(B_valid)"
      ],
      "execution_count": 10,
      "outputs": []
    },
    {
      "cell_type": "code",
      "metadata": {
        "id": "0uSCYKmW1aXu"
      },
      "source": [
        "A_train = A_train/255.0\n",
        "A_valid = A_valid/255.0\n",
        "A_test = A_test/255.0"
      ],
      "execution_count": 11,
      "outputs": []
    },
    {
      "cell_type": "markdown",
      "metadata": {
        "id": "_jsQ7RNUyz8s"
      },
      "source": [
        "# **Huấn luyện mô hình mạng MobileNetV2**"
      ]
    },
    {
      "cell_type": "markdown",
      "metadata": {
        "id": "qnJUxcHO2CrP"
      },
      "source": [
        "### **1. Thiết kế kiến trúc cho mạng**"
      ]
    },
    {
      "cell_type": "code",
      "metadata": {
        "colab": {
          "base_uri": "https://localhost:8080/"
        },
        "id": "QhKDrxJtyzWf",
        "outputId": "45df105b-5e05-43c3-b772-ae6767213791"
      },
      "source": [
        "# Xây dựng kiến trúc mạng\n",
        "model = Sequential()\n",
        "\n",
        "mobileV2 = tf.keras.applications.MobileNetV2(input_shape=(224,224,3),include_top=False, weights='imagenet')\n",
        "mobileV2.trainable = False\n",
        "\n",
        "model.add(mobileV2)\n",
        "model.add(GlobalAveragePooling2D())\n",
        "model.add(Dense(512))\n",
        "model.add(Activation('relu'))\n",
        "model.add(BatchNormalization())\n",
        "model.add(Dense(len(classNames)))\n",
        "model.add(Activation('softmax'))\n",
        "\n",
        "# in ra kiến trúc của mô hình\n",
        "model.summary()"
      ],
      "execution_count": 12,
      "outputs": [
        {
          "output_type": "stream",
          "name": "stdout",
          "text": [
            "Model: \"sequential\"\n",
            "_________________________________________________________________\n",
            "Layer (type)                 Output Shape              Param #   \n",
            "=================================================================\n",
            "mobilenetv2_1.00_224 (Functi (None, 7, 7, 1280)        2257984   \n",
            "_________________________________________________________________\n",
            "global_average_pooling2d (Gl (None, 1280)              0         \n",
            "_________________________________________________________________\n",
            "dense (Dense)                (None, 512)               655872    \n",
            "_________________________________________________________________\n",
            "activation (Activation)      (None, 512)               0         \n",
            "_________________________________________________________________\n",
            "batch_normalization (BatchNo (None, 512)               2048      \n",
            "_________________________________________________________________\n",
            "dense_1 (Dense)              (None, 3)                 1539      \n",
            "_________________________________________________________________\n",
            "activation_1 (Activation)    (None, 3)                 0         \n",
            "=================================================================\n",
            "Total params: 2,917,443\n",
            "Trainable params: 658,435\n",
            "Non-trainable params: 2,259,008\n",
            "_________________________________________________________________\n"
          ]
        }
      ]
    },
    {
      "cell_type": "markdown",
      "metadata": {
        "id": "-e78Nn032Nvn"
      },
      "source": [
        "### **2. Biên dịch mô hình**\n",
        "Trước khi mô hình có thể được huấn luyện, chúng ta cần thêm các hàm toán học giúp cho việc đánh giá hay làm mô hình đi \" đúng hướng \". Các chỉnh sửa này được thêm vào trong bước *biên dịch* của mô hình:\n",
        "\n",
        "* *Hàm mất mát* — dùng để tính toán \"độ sai sót\" của mô hình trong quá trình huấn luyện và dự đoán. Chúng ta cần phải làm cho nghiệm của hàm này nhỏ nhất để kiểm soát mô hình đi đúng hướng. (mất mát càng ít, chính xác càng cao). *Hàm mất mát* hay *loss function* được sử dụng là `crossentropy`.\n",
        "* *Hàm tối ưu* — Đây là \"công cụ\" để làm hàm mất mát có nghiệm nhỏ nhất, qua việc cập nhật và chỉnh sửa các tham số có trong hàm mất mát. *Hàm tối ưu* hay *optimizier function* được sử dụng là `Adam`.\n",
        "* *Thang đo* — dùng để đo đạc độ chính xác qua mỗi quá trình huấn luyện và kiểm tra. Chúng ta sẽ sử dụng phép đo `accuracy`, nhằm nắm được tỉ lệ ảnh được phân loại chính xác."
      ]
    },
    {
      "cell_type": "code",
      "metadata": {
        "id": "dN5Ve1Ts2TTG"
      },
      "source": [
        "# Biên dịch mô hình\n",
        "# tăng cường dữ liệu\n",
        "aug = ImageDataGenerator(rotation_range=0.18,zoom_range=0.15,width_shift_range=0.2, height_shift_range=0.2, horizontal_flip=True)\n",
        "\n",
        "learning_rate = 0.01\n",
        "epochs = 5\n",
        "batch_size = 16\n",
        "opt = Adam(learning_rate=learning_rate)\n",
        "model.compile(optimizer=opt,loss='categorical_crossentropy', metrics=['accuracy'])"
      ],
      "execution_count": 13,
      "outputs": []
    },
    {
      "cell_type": "markdown",
      "metadata": {
        "id": "ABf3DWcm7dMs"
      },
      "source": [
        "## **Không tăng cường dữ liệu (Without Augmentation Dataset)**"
      ]
    },
    {
      "cell_type": "markdown",
      "metadata": {
        "id": "KnhqMHM32jhx"
      },
      "source": [
        "### **3. Train mô hình**"
      ]
    },
    {
      "cell_type": "code",
      "metadata": {
        "colab": {
          "base_uri": "https://localhost:8080/"
        },
        "id": "u01vcVpz2fxs",
        "outputId": "a3d8e57b-93b4-4b4b-a5d3-74f99a2abc83"
      },
      "source": [
        "# đưa dữ liệu vào và huấn luyện\n",
        "print('Start training')\n",
        "import time\n",
        "start=time.time()\n",
        "H = model.fit(A_train,B_train,batch_size=batch_size, validation_data=(A_valid,B_valid), steps_per_epoch=A_train.shape[0]//batch_size, epochs=epochs, verbose=1)\n",
        "stop = time.time()\n",
        "mobilenetV2_time = {stop - start}\n",
        "print(f\"Training time: {mobilenetV2_time}s\")"
      ],
      "execution_count": 14,
      "outputs": [
        {
          "output_type": "stream",
          "name": "stdout",
          "text": [
            "Start training\n",
            "Epoch 1/5\n",
            "3/3 [==============================] - 6s 1s/step - loss: 1.4476 - accuracy: 0.6042 - val_loss: 2.0307 - val_accuracy: 0.6897\n",
            "Epoch 2/5\n",
            "3/3 [==============================] - 2s 844ms/step - loss: 0.0439 - accuracy: 0.9787 - val_loss: 5.7300 - val_accuracy: 0.5862\n",
            "Epoch 3/5\n",
            "3/3 [==============================] - 2s 812ms/step - loss: 0.0879 - accuracy: 0.9787 - val_loss: 5.1656 - val_accuracy: 0.5862\n",
            "Epoch 4/5\n",
            "3/3 [==============================] - 2s 822ms/step - loss: 0.1297 - accuracy: 0.9149 - val_loss: 6.4791 - val_accuracy: 0.5862\n",
            "Epoch 5/5\n",
            "3/3 [==============================] - 2s 823ms/step - loss: 0.0072 - accuracy: 1.0000 - val_loss: 7.6147 - val_accuracy: 0.5862\n",
            "Training time: {23.509002685546875}s\n"
          ]
        }
      ]
    },
    {
      "cell_type": "code",
      "metadata": {
        "colab": {
          "base_uri": "https://localhost:8080/",
          "height": 295
        },
        "id": "u1MLJJxt9gCB",
        "outputId": "ff42d113-38d2-4cf2-ac73-575516e221ef"
      },
      "source": [
        "plt.plot(H.history['accuracy'])\n",
        "plt.plot(H.history['val_accuracy'])\n",
        "plt.title('model accuracy')\n",
        "plt.ylabel('accuracy')\n",
        "plt.xlabel('epoch')\n",
        "plt.legend(['train', 'val'], loc='upper left')\n",
        "plt.show()"
      ],
      "execution_count": 15,
      "outputs": [
        {
          "output_type": "display_data",
          "data": {
            "image/png": "[encoded data removed]",
            "text/plain": [
              "<Figure size 432x288 with 1 Axes>"
            ]
          },
          "metadata": {
            "needs_background": "light"
          }
        }
      ]
    },
    {
      "cell_type": "code",
      "metadata": {
        "colab": {
          "base_uri": "https://localhost:8080/",
          "height": 295
        },
        "id": "0qddFV8A9gI3",
        "outputId": "083af7d5-299c-490b-92ae-1b016b0accac"
      },
      "source": [
        "plt.plot(H.history['loss'])\n",
        "plt.plot(H.history['val_loss'])\n",
        "plt.title('model loss')\n",
        "plt.ylabel('loss')\n",
        "plt.xlabel('epoch')\n",
        "plt.legend(['train', 'val'], loc='upper left')\n",
        "plt.show()"
      ],
      "execution_count": 16,
      "outputs": [
        {
          "output_type": "display_data",
          "data": {
            "image/png": "[encoded data removed]",
            "text/plain": [
              "<Figure size 432x288 with 1 Axes>"
            ]
          },
          "metadata": {
            "needs_background": "light"
          }
        }
      ]
    },
    {
      "cell_type": "markdown",
      "metadata": {
        "id": "UV8n9vwl7vz_"
      },
      "source": [
        "### **4. Đánh giá mô hình**"
      ]
    },
    {
      "cell_type": "code",
      "metadata": {
        "id": "IXXjFzNi4ZcG"
      },
      "source": [
        "from sklearn import metrics\n",
        "from sklearn.metrics import accuracy_score, precision_score, recall_score, f1_score\n",
        "from sklearn.metrics import precision_recall_curve"
      ],
      "execution_count": 17,
      "outputs": []
    },
    {
      "cell_type": "code",
      "metadata": {
        "id": "tY0fKfhAA2Fy"
      },
      "source": [
        "# Hàm vẽ confusion matrix\n",
        "def CM_plot(M):\n",
        "    X = [i/sum(i) for i in M]\n",
        "    fig, ax = plt.subplots(figsize=(8,6))\n",
        "    sns.heatmap(X, cmap='Blues', square = True, annot=True, ax=ax)\n",
        "# Hàm vẽ tương quan predict và recall theo thresholds\n",
        "def plot_precision_recall_vs_threshold(precisions, recalls, thresholds, axlim):\n",
        "    plt.plot(thresholds, precisions[:-1], \"b--\", label=\"Precision\", linewidth=2)\n",
        "    plt.plot(thresholds, recalls[:-1], \"g-\", label=\"Recall\", linewidth=2)\n",
        "    plt.legend(loc=\"center right\", fontsize=16)\n",
        "    plt.xlabel(\"Threshold\", fontsize=16)\n",
        "    plt.grid(True)\n",
        "    plt.axis([-axlim, axlim, -0.05, 1.05])"
      ],
      "execution_count": 18,
      "outputs": []
    },
    {
      "cell_type": "code",
      "metadata": {
        "colab": {
          "base_uri": "https://localhost:8080/"
        },
        "id": "Cn1AwCzs4Zfi",
        "outputId": "2acd023d-bd4e-49cc-d0d2-89b784dc1f9b"
      },
      "source": [
        "# đưa ra dự đoán ảnh\n",
        "from sklearn.metrics import confusion_matrix, classification_report\n",
        "\n",
        "label_test = lb.fit_transform(B_test)\n",
        "\n",
        "B_pred = model.predict(A_test)\n",
        "print(B_pred.shape)\n",
        "\n",
        "B_pred = np.argmax(B_pred, axis = 1)\n",
        "label_test = np.argmax(label_test, axis = 1)\n",
        "\n",
        "B_pred = B_pred.astype('str')\n",
        "label_test = label_test.astype('str')\n",
        "\n",
        "for i in range(B_pred.shape[0]):\n",
        "  B_pred[i] = classNames[int(B_pred[i])]\n",
        "  label_test[i] = classNames[int(label_test[i])]\n",
        "\n",
        "print('Confusion Matrix')\n",
        "confusion_matrix(label_test, B_pred)"
      ],
      "execution_count": 19,
      "outputs": [
        {
          "output_type": "stream",
          "name": "stdout",
          "text": [
            "(42, 3)\n",
            "Confusion Matrix\n"
          ]
        },
        {
          "output_type": "execute_result",
          "data": {
            "text/plain": [
              "array([[ 1, 10,  1],\n",
              "       [ 0, 20,  0],\n",
              "       [ 0,  3,  7]])"
            ]
          },
          "metadata": {},
          "execution_count": 19
        }
      ]
    },
    {
      "cell_type": "code",
      "metadata": {
        "colab": {
          "base_uri": "https://localhost:8080/"
        },
        "id": "Qd5ba4xp4ltx",
        "outputId": "3f025d40-cb0b-4407-ef82-4d92958b062b"
      },
      "source": [
        "print('Classification Report')\n",
        "print(classification_report(label_test, B_pred, target_names=classNames))"
      ],
      "execution_count": 20,
      "outputs": [
        {
          "output_type": "stream",
          "name": "stdout",
          "text": [
            "Classification Report\n",
            "              precision    recall  f1-score   support\n",
            "\n",
            "         dog       1.00      0.08      0.15        12\n",
            "         cat       0.61      1.00      0.75        20\n",
            "         pan       0.88      0.70      0.78        10\n",
            "\n",
            "    accuracy                           0.67        42\n",
            "   macro avg       0.83      0.59      0.56        42\n",
            "weighted avg       0.78      0.67      0.59        42\n",
            "\n"
          ]
        }
      ]
    },
    {
      "cell_type": "code",
      "metadata": {
        "colab": {
          "base_uri": "https://localhost:8080/"
        },
        "id": "UfpynN_a4rsb",
        "outputId": "2dfbd626-0174-4824-990b-0f6578c8ec99"
      },
      "source": [
        "accuracy_score_MobileNetV2 = accuracy_score(label_test, B_pred)\n",
        "\n",
        "print(f'Accuracy score MobileNetV2: {np.multiply(metrics.accuracy_score(label_test, B_pred),100)} %')"
      ],
      "execution_count": 21,
      "outputs": [
        {
          "output_type": "stream",
          "name": "stdout",
          "text": [
            "Accuracy score MobileNetV2: 66.66666666666666 %\n"
          ]
        }
      ]
    },
    {
      "cell_type": "code",
      "metadata": {
        "colab": {
          "base_uri": "https://localhost:8080/",
          "height": 301
        },
        "id": "x0AtJ34sBhc_",
        "outputId": "a231c481-890e-4808-ca53-b0858e9682a1"
      },
      "source": [
        "#Xem ma trận nhầm lẫn\n",
        "cm_matrix = pd.crosstab(label_test, B_pred, rownames=[\"Thực sự\"], colnames=[\"Dự đoán\"])\n",
        "sns.heatmap(cm_matrix, annot=True, fmt=\"d\")"
      ],
      "execution_count": 22,
      "outputs": [
        {
          "output_type": "execute_result",
          "data": {
            "text/plain": [
              "<matplotlib.axes._subplots.AxesSubplot at 0x7fbe4d6e9350>"
            ]
          },
          "metadata": {},
          "execution_count": 22
        },
        {
          "output_type": "display_data",
          "data": {
            "image/png": "[encoded data removed]",
            "text/plain": [
              "<Figure size 432x288 with 2 Axes>"
            ]
          },
          "metadata": {
            "needs_background": "light"
          }
        }
      ]
    },
    {
      "cell_type": "code",
      "metadata": {
        "colab": {
          "base_uri": "https://localhost:8080/",
          "height": 378
        },
        "id": "wgxjmO9GBYMn",
        "outputId": "a0a014b1-dd98-4b98-b966-e06bb2f22ca9"
      },
      "source": [
        "#Chuẩn hóa ma trận\n",
        "CM_plot(confusion_matrix(label_test, B_pred))"
      ],
      "execution_count": 23,
      "outputs": [
        {
          "output_type": "display_data",
          "data": {
            "image/png": "[encoded data removed]",
            "text/plain": [
              "<Figure size 576x432 with 2 Axes>"
            ]
          },
          "metadata": {
            "needs_background": "light"
          }
        }
      ]
    },
    {
      "cell_type": "markdown",
      "metadata": {
        "id": "tg1XnYHH7oKP"
      },
      "source": [
        "## **Có tăng cường dữ liệu (With Augmentation Dataset)**"
      ]
    },
    {
      "cell_type": "markdown",
      "metadata": {
        "id": "rek7hhmT71g0"
      },
      "source": [
        "### **3. Train mô hình**"
      ]
    },
    {
      "cell_type": "code",
      "metadata": {
        "colab": {
          "base_uri": "https://localhost:8080/"
        },
        "id": "Ki3vfJAv744S",
        "outputId": "f3aae9c7-1f56-4dd8-fd1f-3319e55b6efa"
      },
      "source": [
        "# đưa dữ liệu vào và huấn luyện\n",
        "print('Start training')\n",
        "import time\n",
        "start=time.time()\n",
        "H_aug = model.fit(aug.flow(A_train,B_train,batch_size=batch_size), validation_data=(A_valid,B_valid), steps_per_epoch=A_train.shape[0]//batch_size, epochs=epochs, verbose=1)\n",
        "stop = time.time()\n",
        "mobilenetV2_time_aug = {stop - start}\n",
        "print(f\"Training time: {mobilenetV2_time_aug}s\")"
      ],
      "execution_count": 24,
      "outputs": [
        {
          "output_type": "stream",
          "name": "stdout",
          "text": [
            "Start training\n",
            "Epoch 1/5\n",
            "3/3 [==============================] - 4s 1s/step - loss: 0.0324 - accuracy: 0.9787 - val_loss: 7.3413 - val_accuracy: 0.5862\n",
            "Epoch 2/5\n",
            "3/3 [==============================] - 3s 979ms/step - loss: 0.1663 - accuracy: 0.9362 - val_loss: 3.5378 - val_accuracy: 0.6897\n",
            "Epoch 3/5\n",
            "3/3 [==============================] - 3s 1s/step - loss: 0.0112 - accuracy: 1.0000 - val_loss: 0.4188 - val_accuracy: 0.8966\n",
            "Epoch 4/5\n",
            "3/3 [==============================] - 3s 962ms/step - loss: 0.0012 - accuracy: 1.0000 - val_loss: 0.3881 - val_accuracy: 0.8966\n",
            "Epoch 5/5\n",
            "3/3 [==============================] - 3s 967ms/step - loss: 0.0072 - accuracy: 1.0000 - val_loss: 0.5864 - val_accuracy: 0.8966\n",
            "Training time: {22.548131704330444}s\n"
          ]
        }
      ]
    },
    {
      "cell_type": "code",
      "metadata": {
        "colab": {
          "base_uri": "https://localhost:8080/",
          "height": 295
        },
        "id": "mzC-p2i-8dw4",
        "outputId": "96562c45-61cb-4f01-ac42-b81f2c9ede6e"
      },
      "source": [
        "plt.plot(H_aug.history['accuracy'])\n",
        "plt.plot(H_aug.history['val_accuracy'])\n",
        "plt.title('model accuracy')\n",
        "plt.ylabel('accuracy')\n",
        "plt.xlabel('epoch')\n",
        "plt.legend(['train', 'val'], loc='upper left')\n",
        "plt.show()"
      ],
      "execution_count": 25,
      "outputs": [
        {
          "output_type": "display_data",
          "data": {
            "image/png": "[encoded data removed]",
            "text/plain": [
              "<Figure size 432x288 with 1 Axes>"
            ]
          },
          "metadata": {
            "needs_background": "light"
          }
        }
      ]
    },
    {
      "cell_type": "code",
      "metadata": {
        "colab": {
          "base_uri": "https://localhost:8080/",
          "height": 295
        },
        "id": "JZ-9KD6p9Rrr",
        "outputId": "c7bbd5cf-6df9-4e03-b5f5-64d8bd99c53e"
      },
      "source": [
        "plt.plot(H_aug.history['loss'])\n",
        "plt.plot(H_aug.history['val_loss'])\n",
        "plt.title('model loss')\n",
        "plt.ylabel('loss')\n",
        "plt.xlabel('epoch')\n",
        "plt.legend(['train', 'val'], loc='upper left')\n",
        "plt.show()"
      ],
      "execution_count": 26,
      "outputs": [
        {
          "output_type": "display_data",
          "data": {
            "image/png": "[encoded data removed]",
            "text/plain": [
              "<Figure size 432x288 with 1 Axes>"
            ]
          },
          "metadata": {
            "needs_background": "light"
          }
        }
      ]
    },
    {
      "cell_type": "markdown",
      "metadata": {
        "id": "KHxvOyk772NH"
      },
      "source": [
        "### **4. Đánh giá mô hình**"
      ]
    },
    {
      "cell_type": "code",
      "metadata": {
        "colab": {
          "base_uri": "https://localhost:8080/"
        },
        "id": "FUkf5mAX97vR",
        "outputId": "185862ff-3f41-40e8-d9c2-03e8ad269e4a"
      },
      "source": [
        "# đưa ra dự đoán ảnh\n",
        "label_test = lb.fit_transform(B_test)\n",
        "\n",
        "B_pred = model.predict(A_test)\n",
        "print(B_pred.shape)\n",
        "\n",
        "B_pred = np.argmax(B_pred, axis = 1)\n",
        "label_test = np.argmax(label_test, axis = 1)\n",
        "\n",
        "B_pred = B_pred.astype('str')\n",
        "label_test = label_test.astype('str')\n",
        "\n",
        "for i in range(B_pred.shape[0]):\n",
        "  B_pred[i] = classNames[int(B_pred[i])]\n",
        "  label_test[i] = classNames[int(label_test[i])]\n",
        "\n",
        "print('Confusion Matrix')\n",
        "confusion_matrix(label_test, B_pred)"
      ],
      "execution_count": 27,
      "outputs": [
        {
          "output_type": "stream",
          "name": "stdout",
          "text": [
            "(42, 3)\n",
            "Confusion Matrix\n"
          ]
        },
        {
          "output_type": "execute_result",
          "data": {
            "text/plain": [
              "array([[11,  0,  1],\n",
              "       [ 0, 20,  0],\n",
              "       [ 0,  0, 10]])"
            ]
          },
          "metadata": {},
          "execution_count": 27
        }
      ]
    },
    {
      "cell_type": "code",
      "metadata": {
        "colab": {
          "base_uri": "https://localhost:8080/"
        },
        "id": "KfSqeCVA99Yi",
        "outputId": "f95ea0bd-25cd-4636-8d75-5352adfabd12"
      },
      "source": [
        "print('Classification Report')\n",
        "print(classification_report(label_test, B_pred, target_names=classNames))"
      ],
      "execution_count": 28,
      "outputs": [
        {
          "output_type": "stream",
          "name": "stdout",
          "text": [
            "Classification Report\n",
            "              precision    recall  f1-score   support\n",
            "\n",
            "         dog       1.00      0.92      0.96        12\n",
            "         cat       1.00      1.00      1.00        20\n",
            "         pan       0.91      1.00      0.95        10\n",
            "\n",
            "    accuracy                           0.98        42\n",
            "   macro avg       0.97      0.97      0.97        42\n",
            "weighted avg       0.98      0.98      0.98        42\n",
            "\n"
          ]
        }
      ]
    },
    {
      "cell_type": "code",
      "metadata": {
        "colab": {
          "base_uri": "https://localhost:8080/"
        },
        "id": "cRwUKR64-B7a",
        "outputId": "b1a14eaf-7ded-43ce-b03c-7362eb394dbb"
      },
      "source": [
        "accuracy_score_MobileNetV2_aug = accuracy_score(label_test, B_pred)\n",
        "print(f'Do chinh xac (Accuracy) MobileNetV2 augmentation: {np.multiply(metrics.accuracy_score(label_test, B_pred),100)} %')"
      ],
      "execution_count": 29,
      "outputs": [
        {
          "output_type": "stream",
          "name": "stdout",
          "text": [
            "Do chinh xac (Accuracy) MobileNetV2 augmentation: 97.61904761904762 %\n"
          ]
        }
      ]
    },
    {
      "cell_type": "code",
      "metadata": {
        "colab": {
          "base_uri": "https://localhost:8080/",
          "height": 301
        },
        "id": "ZDeaf9P-B2GB",
        "outputId": "cec17066-17ad-461e-bdea-8dd1b3152ce8"
      },
      "source": [
        "#Xem ma trận nhầm lẫn\n",
        "cm_matrix = pd.crosstab(label_test, B_pred, rownames=[\"Thực sự\"], colnames=[\"Dự đoán\"])\n",
        "sns.heatmap(cm_matrix, annot=True, fmt=\"d\")"
      ],
      "execution_count": 30,
      "outputs": [
        {
          "output_type": "execute_result",
          "data": {
            "text/plain": [
              "<matplotlib.axes._subplots.AxesSubplot at 0x7fbe4d95aa10>"
            ]
          },
          "metadata": {},
          "execution_count": 30
        },
        {
          "output_type": "display_data",
          "data": {
            "image/png": "[encoded data removed]",
            "text/plain": [
              "<Figure size 432x288 with 2 Axes>"
            ]
          },
          "metadata": {
            "needs_background": "light"
          }
        }
      ]
    },
    {
      "cell_type": "code",
      "metadata": {
        "colab": {
          "base_uri": "https://localhost:8080/",
          "height": 378
        },
        "id": "OAnrfxyPB2xg",
        "outputId": "f458993d-cfdb-4467-825c-7d0cb1f898e6"
      },
      "source": [
        "#Chuẩn hóa ma trận\n",
        "CM_plot(confusion_matrix(label_test, B_pred))"
      ],
      "execution_count": 31,
      "outputs": [
        {
          "output_type": "display_data",
          "data": {
            "image/png": "[encoded data removed]",
            "text/plain": [
              "<Figure size 576x432 with 2 Axes>"
            ]
          },
          "metadata": {
            "needs_background": "light"
          }
        }
      ]
    },
    {
      "cell_type": "markdown",
      "metadata": {
        "id": "lUxAtQOHFDd6"
      },
      "source": [
        "## **So sánh kết quả**"
      ]
    },
    {
      "cell_type": "code",
      "metadata": {
        "colab": {
          "base_uri": "https://localhost:8080/",
          "height": 111
        },
        "id": "Y2kHBJizGOdL",
        "outputId": "f4779f9a-9963-47ab-ecc2-2534526a2a25"
      },
      "source": [
        "results_dict={'Phuong phap phan lop':['MobileNetV2 (without aug)', 'MobileNetV2 (with aug)'],\n",
        "              'Accuracy':['66.66%', '97.62%'],\n",
        "              'Time':['23.51s', '22.55s'],}\n",
        "pd.DataFrame(results_dict)"
      ],
      "execution_count": 36,
      "outputs": [
        {
          "output_type": "execute_result",
          "data": {
            "text/html": [
              "<div>\n",
              "<style scoped>\n",
              "    .dataframe tbody tr th:only-of-type {\n",
              "        vertical-align: middle;\n",
              "    }\n",
              "\n",
              "    .dataframe tbody tr th {\n",
              "        vertical-align: top;\n",
              "    }\n",
              "\n",
              "    .dataframe thead th {\n",
              "        text-align: right;\n",
              "    }\n",
              "</style>\n",
              "<table border=\"1\" class=\"dataframe\">\n",
              "  <thead>\n",
              "    <tr style=\"text-align: right;\">\n",
              "      <th></th>\n",
              "      <th>Phuong phap phan lop</th>\n",
              "      <th>Accuracy</th>\n",
              "      <th>Time</th>\n",
              "    </tr>\n",
              "  </thead>\n",
              "  <tbody>\n",
              "    <tr>\n",
              "      <th>0</th>\n",
              "      <td>MobileNetV2 (without aug)</td>\n",
              "      <td>66.66%</td>\n",
              "      <td>23.51s</td>\n",
              "    </tr>\n",
              "    <tr>\n",
              "      <th>1</th>\n",
              "      <td>MobileNetV2 (with aug)</td>\n",
              "      <td>97.62%</td>\n",
              "      <td>22.55s</td>\n",
              "    </tr>\n",
              "  </tbody>\n",
              "</table>\n",
              "</div>"
            ],
            "text/plain": [
              "        Phuong phap phan lop Accuracy    Time\n",
              "0  MobileNetV2 (without aug)   66.66%  23.51s\n",
              "1     MobileNetV2 (with aug)   97.62%  22.55s"
            ]
          },
          "metadata": {},
          "execution_count": 36
        }
      ]
    },
    {
      "cell_type": "code",
      "metadata": {
        "colab": {
          "base_uri": "https://localhost:8080/",
          "height": 281
        },
        "id": "I2vm8pMSFKa2",
        "outputId": "9d7158eb-b55d-4936-9c59-211934ea9d9f"
      },
      "source": [
        "#in biểu đồ\n",
        "BarGraph=['MobileNetV2 (without aug)','MobileNetV2 (with aug)']\n",
        "accuracy=[accuracy_score_MobileNetV2,accuracy_score_MobileNetV2_aug]\n",
        "plt.bar(BarGraph,accuracy,color='green')\n",
        "plt.title('Bar Graph ACCURACY')\n",
        "plt.xlabel('')\n",
        "plt.ylabel('ACCURACY')\n",
        "plt.show()"
      ],
      "execution_count": 32,
      "outputs": [
        {
          "output_type": "display_data",
          "data": {
            "image/png": "[encoded data removed]",
            "text/plain": [
              "<Figure size 432x288 with 1 Axes>"
            ]
          },
          "metadata": {
            "needs_background": "light"
          }
        }
      ]
    },
    {
      "cell_type": "code",
      "metadata": {
        "colab": {
          "base_uri": "https://localhost:8080/"
        },
        "id": "Z1Hf02_tFaCU",
        "outputId": "4b21e6f2-99a9-4826-d152-0ee5f1e1b77c"
      },
      "source": [
        "print('Thời gian huấn luyện các mô hình:')\n",
        "print('MobileNetV2 (without aug) : \\n','time:', mobilenetV2_time)\n",
        "print('======================================================')\n",
        "print('MobileNetV2 (with aug) : \\n','time:', mobilenetV2_time_aug)\n",
        "print('======================================================')\n",
        "\n",
        "print('****======================================================****')\n",
        "\n",
        "print('Độ chính xác các mô hình:')\n",
        "print('MobileNetV2 (without aug) : \\n','accuracy:', accuracy_score_MobileNetV2)\n",
        "print('======================================================')\n",
        "print('MobileNetV2 (with aug) : \\n','accuracy:', accuracy_score_MobileNetV2_aug)\n",
        "print('======================================================')"
      ],
      "execution_count": 34,
      "outputs": [
        {
          "output_type": "stream",
          "name": "stdout",
          "text": [
            "Thời gian huấn luyện các mô hình:\n",
            "MobileNetV2 (without aug) : \n",
            " time: {23.509002685546875}\n",
            "======================================================\n",
            "MobileNetV2 (with aug) : \n",
            " time: {22.548131704330444}\n",
            "======================================================\n",
            "****======================================================****\n",
            "Độ chính xác các mô hình:\n",
            "MobileNetV2 (without aug) : \n",
            " accuracy: 0.6666666666666666\n",
            "======================================================\n",
            "MobileNetV2 (with aug) : \n",
            " accuracy: 0.9761904761904762\n",
            "======================================================\n"
          ]
        }
      ]
    }
  ]
}